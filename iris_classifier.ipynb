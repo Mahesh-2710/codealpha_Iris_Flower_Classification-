from sklearn.datasets import load_iris
from sklearn.model_selection import train_test_split
from sklearn.ensemble import RandomForestClassifier
from sklearn.metrics import accuracy_score, classification_report
import pandas as pd

test_size = float(input("Enter the test size (e.g., 0.3): "))
n_estimators = int(input("Enter the number of estimators (e.g., 100): "))
random_state = int(input("Enter the random state (e.g., 42): "))

iris = load_iris(as_frame=True)
X = iris.data
y = iris.target
target_names = iris.target_names

X_train, X_test, y_train, y_test = train_test_split(X, y, test_size=test_size, random_state=random_state)

model = RandomForestClassifier(n_estimators=n_estimators, random_state=random_state)
model.fit(X_train, y_train)

y_pred = model.predict(X_test)
accuracy = accuracy_score(y_test, y_pred)
report = classification_report(y_test, y_pred, target_names=target_names)

print("Accuracy:", accuracy)
print("Classification Report:\n", report)